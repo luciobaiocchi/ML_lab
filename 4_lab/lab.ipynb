{
 "cells": [
  {
   "cell_type": "code",
   "execution_count": 46,
   "id": "5cba69a1",
   "metadata": {},
   "outputs": [
    {
     "name": "stdout",
     "output_type": "stream",
     "text": [
      "(150,)\n",
      "(30,)\n"
     ]
    },
    {
     "data": {
      "application/vnd.microsoft.datawrangler.viewer.v0+json": {
       "columns": [
        {
         "name": "index",
         "rawType": "int64",
         "type": "integer"
        },
        {
         "name": "0",
         "rawType": "float64",
         "type": "float"
        },
        {
         "name": "1",
         "rawType": "float64",
         "type": "float"
        },
        {
         "name": "2",
         "rawType": "float64",
         "type": "float"
        },
        {
         "name": "3",
         "rawType": "float64",
         "type": "float"
        }
       ],
       "ref": "022e6bfa-2528-41c7-aac4-7d2730db40ff",
       "rows": [
        [
         "0",
         "5.1",
         "3.5",
         "1.4",
         "0.2"
        ],
        [
         "1",
         "4.9",
         "3.0",
         "1.4",
         "0.2"
        ],
        [
         "2",
         "4.7",
         "3.2",
         "1.3",
         "0.2"
        ],
        [
         "3",
         "4.6",
         "3.1",
         "1.5",
         "0.2"
        ],
        [
         "4",
         "5.0",
         "3.6",
         "1.4",
         "0.2"
        ],
        [
         "6",
         "4.6",
         "3.4",
         "1.4",
         "0.3"
        ],
        [
         "7",
         "5.0",
         "3.4",
         "1.5",
         "0.2"
        ],
        [
         "8",
         "4.4",
         "2.9",
         "1.4",
         "0.2"
        ],
        [
         "9",
         "4.9",
         "3.1",
         "1.5",
         "0.1"
        ],
        [
         "10",
         "5.4",
         "3.7",
         "1.5",
         "0.2"
        ],
        [
         "11",
         "4.8",
         "3.4",
         "1.6",
         "0.2"
        ],
        [
         "12",
         "4.8",
         "3.0",
         "1.4",
         "0.1"
        ],
        [
         "13",
         "4.3",
         "3.0",
         "1.1",
         "0.1"
        ],
        [
         "15",
         "5.7",
         "4.4",
         "1.5",
         "0.4"
        ],
        [
         "17",
         "5.1",
         "3.5",
         "1.4",
         "0.3"
        ],
        [
         "18",
         "5.7",
         "3.8",
         "1.7",
         "0.3"
        ],
        [
         "20",
         "5.4",
         "3.4",
         "1.7",
         "0.2"
        ],
        [
         "21",
         "5.1",
         "3.7",
         "1.5",
         "0.4"
        ],
        [
         "22",
         "4.6",
         "3.6",
         "1.0",
         "0.2"
        ],
        [
         "23",
         "5.1",
         "3.3",
         "1.7",
         "0.5"
        ],
        [
         "24",
         "4.8",
         "3.4",
         "1.9",
         "0.2"
        ],
        [
         "25",
         "5.0",
         "3.0",
         "1.6",
         "0.2"
        ],
        [
         "26",
         "5.0",
         "3.4",
         "1.6",
         "0.4"
        ],
        [
         "27",
         "5.2",
         "3.5",
         "1.5",
         "0.2"
        ],
        [
         "28",
         "5.2",
         "3.4",
         "1.4",
         "0.2"
        ],
        [
         "30",
         "4.8",
         "3.1",
         "1.6",
         "0.2"
        ],
        [
         "32",
         "5.2",
         "4.1",
         "1.5",
         "0.1"
        ],
        [
         "34",
         "4.9",
         "3.1",
         "1.5",
         "0.1"
        ],
        [
         "36",
         "5.5",
         "3.5",
         "1.3",
         "0.2"
        ],
        [
         "37",
         "4.9",
         "3.1",
         "1.5",
         "0.1"
        ],
        [
         "38",
         "4.4",
         "3.0",
         "1.3",
         "0.2"
        ],
        [
         "39",
         "5.1",
         "3.4",
         "1.5",
         "0.2"
        ],
        [
         "41",
         "4.5",
         "2.3",
         "1.3",
         "0.3"
        ],
        [
         "43",
         "5.0",
         "3.5",
         "1.6",
         "0.6"
        ],
        [
         "45",
         "4.8",
         "3.0",
         "1.4",
         "0.3"
        ],
        [
         "46",
         "5.1",
         "3.8",
         "1.6",
         "0.2"
        ],
        [
         "47",
         "4.6",
         "3.2",
         "1.4",
         "0.2"
        ],
        [
         "48",
         "5.3",
         "3.7",
         "1.5",
         "0.2"
        ],
        [
         "49",
         "5.0",
         "3.3",
         "1.4",
         "0.2"
        ],
        [
         "50",
         "7.0",
         "3.2",
         "4.7",
         "1.4"
        ],
        [
         "52",
         "6.9",
         "3.1",
         "4.9",
         "1.5"
        ],
        [
         "53",
         "5.5",
         "2.3",
         "4.0",
         "1.3"
        ],
        [
         "54",
         "6.5",
         "2.8",
         "4.6",
         "1.5"
        ],
        [
         "55",
         "5.7",
         "2.8",
         "4.5",
         "1.3"
        ],
        [
         "57",
         "4.9",
         "2.4",
         "3.3",
         "1.0"
        ],
        [
         "58",
         "6.6",
         "2.9",
         "4.6",
         "1.3"
        ],
        [
         "59",
         "5.2",
         "2.7",
         "3.9",
         "1.4"
        ],
        [
         "60",
         "5.0",
         "2.0",
         "3.5",
         "1.0"
        ],
        [
         "61",
         "5.9",
         "3.0",
         "4.2",
         "1.5"
        ],
        [
         "62",
         "6.0",
         "2.2",
         "4.0",
         "1.0"
        ]
       ],
       "shape": {
        "columns": 4,
        "rows": 120
       }
      },
      "text/html": [
       "<div>\n",
       "<style scoped>\n",
       "    .dataframe tbody tr th:only-of-type {\n",
       "        vertical-align: middle;\n",
       "    }\n",
       "\n",
       "    .dataframe tbody tr th {\n",
       "        vertical-align: top;\n",
       "    }\n",
       "\n",
       "    .dataframe thead th {\n",
       "        text-align: right;\n",
       "    }\n",
       "</style>\n",
       "<table border=\"1\" class=\"dataframe\">\n",
       "  <thead>\n",
       "    <tr style=\"text-align: right;\">\n",
       "      <th></th>\n",
       "      <th>0</th>\n",
       "      <th>1</th>\n",
       "      <th>2</th>\n",
       "      <th>3</th>\n",
       "    </tr>\n",
       "  </thead>\n",
       "  <tbody>\n",
       "    <tr>\n",
       "      <th>0</th>\n",
       "      <td>5.1</td>\n",
       "      <td>3.5</td>\n",
       "      <td>1.4</td>\n",
       "      <td>0.2</td>\n",
       "    </tr>\n",
       "    <tr>\n",
       "      <th>1</th>\n",
       "      <td>4.9</td>\n",
       "      <td>3.0</td>\n",
       "      <td>1.4</td>\n",
       "      <td>0.2</td>\n",
       "    </tr>\n",
       "    <tr>\n",
       "      <th>2</th>\n",
       "      <td>4.7</td>\n",
       "      <td>3.2</td>\n",
       "      <td>1.3</td>\n",
       "      <td>0.2</td>\n",
       "    </tr>\n",
       "    <tr>\n",
       "      <th>3</th>\n",
       "      <td>4.6</td>\n",
       "      <td>3.1</td>\n",
       "      <td>1.5</td>\n",
       "      <td>0.2</td>\n",
       "    </tr>\n",
       "    <tr>\n",
       "      <th>4</th>\n",
       "      <td>5.0</td>\n",
       "      <td>3.6</td>\n",
       "      <td>1.4</td>\n",
       "      <td>0.2</td>\n",
       "    </tr>\n",
       "    <tr>\n",
       "      <th>...</th>\n",
       "      <td>...</td>\n",
       "      <td>...</td>\n",
       "      <td>...</td>\n",
       "      <td>...</td>\n",
       "    </tr>\n",
       "    <tr>\n",
       "      <th>144</th>\n",
       "      <td>6.7</td>\n",
       "      <td>3.3</td>\n",
       "      <td>5.7</td>\n",
       "      <td>2.5</td>\n",
       "    </tr>\n",
       "    <tr>\n",
       "      <th>145</th>\n",
       "      <td>6.7</td>\n",
       "      <td>3.0</td>\n",
       "      <td>5.2</td>\n",
       "      <td>2.3</td>\n",
       "    </tr>\n",
       "    <tr>\n",
       "      <th>147</th>\n",
       "      <td>6.5</td>\n",
       "      <td>3.0</td>\n",
       "      <td>5.2</td>\n",
       "      <td>2.0</td>\n",
       "    </tr>\n",
       "    <tr>\n",
       "      <th>148</th>\n",
       "      <td>6.2</td>\n",
       "      <td>3.4</td>\n",
       "      <td>5.4</td>\n",
       "      <td>2.3</td>\n",
       "    </tr>\n",
       "    <tr>\n",
       "      <th>149</th>\n",
       "      <td>5.9</td>\n",
       "      <td>3.0</td>\n",
       "      <td>5.1</td>\n",
       "      <td>1.8</td>\n",
       "    </tr>\n",
       "  </tbody>\n",
       "</table>\n",
       "<p>120 rows × 4 columns</p>\n",
       "</div>"
      ],
      "text/plain": [
       "       0    1    2    3\n",
       "0    5.1  3.5  1.4  0.2\n",
       "1    4.9  3.0  1.4  0.2\n",
       "2    4.7  3.2  1.3  0.2\n",
       "3    4.6  3.1  1.5  0.2\n",
       "4    5.0  3.6  1.4  0.2\n",
       "..   ...  ...  ...  ...\n",
       "144  6.7  3.3  5.7  2.5\n",
       "145  6.7  3.0  5.2  2.3\n",
       "147  6.5  3.0  5.2  2.0\n",
       "148  6.2  3.4  5.4  2.3\n",
       "149  5.9  3.0  5.1  1.8\n",
       "\n",
       "[120 rows x 4 columns]"
      ]
     },
     "execution_count": 46,
     "metadata": {},
     "output_type": "execute_result"
    }
   ],
   "source": [
    "import pandas as pd\n",
    "\n",
    "df_iris = pd.read_csv(\"https://archive.ics.uci.edu/ml/machine-learning-databases/iris/iris.data\" , header = None)\n",
    "df_mnist = pd.read_csv(\"https://raw.githubusercontent.com/dbdmg/data-science-lab/master/datasets/mnist_test.csv\" , header = None)\n",
    "\n",
    "print(df_iris.index.shape)\n",
    "sample_iris = df.sample(frac=0.2, random_state=1)\n",
    "print(sample_iris.index.shape)\n",
    "\n",
    "X_test = sample_iris.iloc[:,:4]\n",
    "y_test = sample_iris.iloc[:,4:5]\n",
    "\n",
    "X_train = df_iris.drop(X_test.index).iloc[:,:4]\n",
    "y_train = df_iris.drop(X_test.index).iloc[:,4:5]\n",
    "\n",
    "X_train"
   ]
  },
  {
   "cell_type": "code",
   "execution_count": 144,
   "id": "bcee662b",
   "metadata": {},
   "outputs": [],
   "source": [
    "import numpy as np\n",
    "\n",
    "class KNearestNeighbors:\n",
    "    def __init__(self, k, distance_metric=\"euclidean\"):\n",
    "        \"\"\"\n",
    "        Initialize the K-Nearest Neighbors classifier.\n",
    "\n",
    "        Parameters\n",
    "        ----------\n",
    "        k : int\n",
    "            Number of neighbors to consider.\n",
    "        distance_metric : str, optional\n",
    "            Distance metric to use (\"euclidean\" by default).\n",
    "        \"\"\"\n",
    "        self.k = k\n",
    "        self.distance_metric = distance_metric\n",
    "        self.X_train = None\n",
    "        self.y_train = None\n",
    "\n",
    "    def fit(self, X, y):\n",
    "        \"\"\"\n",
    "        Store the training data and corresponding labels.\n",
    "\n",
    "        Parameters\n",
    "        ----------\n",
    "        X : ndarray of shape (R, C)\n",
    "            Training data points.\n",
    "        y : ndarray of shape (R,)\n",
    "            Training labels.\n",
    "        \"\"\"\n",
    "        self.X_train = X\n",
    "        self.y_train = y\n",
    "\n",
    "    def predict(self, X):\n",
    "        \"\"\"\n",
    "        Predict labels for the given data points using the trained model.\n",
    "\n",
    "        Parameters\n",
    "        ----------\n",
    "        X : ndarray of shape (N, C)\n",
    "            Test data points.\n",
    "\n",
    "        Returns\n",
    "        -------\n",
    "        labels : ndarray of shape (N,)\n",
    "            Predicted labels.\n",
    "        \"\"\"\n",
    "        \n",
    "        \n",
    "        # nums of rows of the X_train\n",
    "        len = X_train.index.shape[0]\n",
    "        copy = X_train.copy()\n",
    "        print(copy)\n",
    "        copy[\"dim\"] = np.nan\n",
    "        for i in range(0, len):\n",
    "            dist = self.__eu_distance_chat(X.iloc[0], X_train.iloc[i])\n",
    "            copy.loc[i, \"dim\"] = dist\n",
    "        print(copy)\n",
    "        df_sorted = copy.sort_values(by=\"dim\")\n",
    "        df_sorted = df_sorted[:self.k]\n",
    "        #print(df_sorted)\n",
    "    \n",
    "        #return labels\n",
    "\n",
    "    \"euclidean distance\"\n",
    "    def __eu_distance(self, p, q):\n",
    "        n = len(p)\n",
    "        sum = 0\n",
    "        for i in range (0, n):\n",
    "            sum += (p[i] - q [i]) ** 2\n",
    "        d = np.sqrt(sum)\n",
    "        return d\n",
    "    \n",
    "    \"\"\"Compute the Euclidean distance between two points, improved version from chat.\"\"\"\n",
    "    def __eu_distance_chat(self, p, q):\n",
    "        p, q = np.array(p), np.array(q)\n",
    "        return np.sqrt(np.sum((p - q) ** 2))\n",
    "    \n",
    "    \"cosine distance\"\n",
    "    def __cd_distance(self, p, q):\n",
    "        n = len(p)\n",
    "        sum_num = 0\n",
    "        sum_den_p = 0\n",
    "        sum_den_q = 0\n",
    "        \n",
    "        for i in range (0, n):\n",
    "            sum_num += p[i] * q[i]\n",
    "            sum_den_p += p[i]**2\n",
    "            sum_den_q += q[i]**2\n",
    "            \n",
    "        cs = sum_num / (np.sqrt(sum_den_p)) * (np.sqrt(sum_den_q))\n",
    "        cd = 1 - np.linalg.norm(cs)\n",
    "        return cd\n",
    "\n",
    "    \"cosine distance, improved version from chat\"\n",
    "    def __cd_distance_chat(self, p, q):\n",
    "        p, q = np.array(p), np.array(q)\n",
    "        return 1 - np.dot(p, q) / (np.linalg.norm(p) * np.linalg.norm(q))\n",
    "    \n",
    "    \"manhattan distance\"\n",
    "    def __md_distance(self, p, q):\n",
    "        n = len(p)\n",
    "        md = 0\n",
    "        for i in range (0, n):\n",
    "            md += np.linalg.norm(p[i] - q[i])\n",
    "        return md\n",
    "    \n",
    "    \"\"\"Compute the Manhattan distance between two vectors, improved version from chat\"\"\"\n",
    "    def __md_distance_chat(self, p, q):\n",
    "        p, q = np.array(p), np.array(q)\n",
    "        return np.sum(np.abs(p - q))\n",
    "        "
   ]
  },
  {
   "cell_type": "code",
   "execution_count": 145,
   "id": "fb1efd97",
   "metadata": {},
   "outputs": [
    {
     "name": "stdout",
     "output_type": "stream",
     "text": [
      "       0    1    2    3\n",
      "0    5.1  3.5  1.4  0.2\n",
      "1    4.9  3.0  1.4  0.2\n",
      "2    4.7  3.2  1.3  0.2\n",
      "3    4.6  3.1  1.5  0.2\n",
      "4    5.0  3.6  1.4  0.2\n",
      "..   ...  ...  ...  ...\n",
      "144  6.7  3.3  5.7  2.5\n",
      "145  6.7  3.0  5.2  2.3\n",
      "147  6.5  3.0  5.2  2.0\n",
      "148  6.2  3.4  5.4  2.3\n",
      "149  5.9  3.0  5.1  1.8\n",
      "\n",
      "[120 rows x 4 columns]\n",
      "       0    1    2    3       dim\n",
      "0    5.1  3.5  1.4  0.2  0.883176\n",
      "1    4.9  3.0  1.4  0.2  1.360147\n",
      "2    4.7  3.2  1.3  0.2  1.363818\n",
      "3    4.6  3.1  1.5  0.2  1.529706\n",
      "4    5.0  3.6  1.4  0.2  0.916515\n",
      "..   ...  ...  ...  ...       ...\n",
      "92   NaN  NaN  NaN  NaN  6.156298\n",
      "94   NaN  NaN  NaN  NaN  4.405678\n",
      "98   NaN  NaN  NaN  NaN  5.015974\n",
      "99   NaN  NaN  NaN  NaN  4.137632\n",
      "102  NaN  NaN  NaN  NaN  5.106858\n",
      "\n",
      "[145 rows x 5 columns]\n"
     ]
    }
   ],
   "source": [
    "nn = KNearestNeighbors(10)\n",
    "nn.fit(X_train, y_train)\n",
    "nn.predict(X_test)"
   ]
  }
 ],
 "metadata": {
  "kernelspec": {
   "display_name": "Python (dsml)",
   "language": "python",
   "name": "dsml"
  },
  "language_info": {
   "codemirror_mode": {
    "name": "ipython",
    "version": 3
   },
   "file_extension": ".py",
   "mimetype": "text/x-python",
   "name": "python",
   "nbconvert_exporter": "python",
   "pygments_lexer": "ipython3",
   "version": "3.11.13"
  }
 },
 "nbformat": 4,
 "nbformat_minor": 5
}
