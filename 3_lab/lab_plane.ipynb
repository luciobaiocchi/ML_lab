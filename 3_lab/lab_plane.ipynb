{
 "cells": [
  {
   "cell_type": "code",
   "execution_count": 5,
   "id": "8629ef1c",
   "metadata": {},
   "outputs": [
    {
     "name": "stdout",
     "output_type": "stream",
     "text": [
      "Downloaded and extracted to: US_FlightDelayData\n"
     ]
    }
   ],
   "source": [
    "import pandas as pd\n",
    "import numpy as np\n",
    "import requests\n",
    "import zipfile\n",
    "import io\n",
    "import os\n",
    "\n",
    "url = \"https://github.com/dbdmg/data-science-lab/raw/master/datasets/US_FlightDelayData.zip\"\n",
    "output_dir = \"US_FlightDelayData\"\n",
    "\n",
    "# 1. Download the file\n",
    "resp = requests.get(url)\n",
    "resp.raise_for_status()  # will raise an error if download failed\n",
    "\n",
    "# 2. Unzip the content in memory\n",
    "with zipfile.ZipFile(io.BytesIO(resp.content)) as z:\n",
    "    # optionally, you can list files:\n",
    "    # print(z.namelist())\n",
    "    # extract all files to output_dir\n",
    "    os.makedirs(output_dir, exist_ok=True)\n",
    "    z.extractall(path=output_dir)\n",
    "\n",
    "print(\"Downloaded and extracted to:\", output_dir)\n"
   ]
  },
  {
   "cell_type": "code",
   "execution_count": 6,
   "id": "c1a5edf7",
   "metadata": {},
   "outputs": [],
   "source": [
    "plane_data = pd.read_csv(\"US_FlightDelayData/831394006_T_ONTIME.csv\")"
   ]
  }
 ],
 "metadata": {
  "kernelspec": {
   "display_name": "Python 3",
   "language": "python",
   "name": "python3"
  },
  "language_info": {
   "codemirror_mode": {
    "name": "ipython",
    "version": 3
   },
   "file_extension": ".py",
   "mimetype": "text/x-python",
   "name": "python",
   "nbconvert_exporter": "python",
   "pygments_lexer": "ipython3",
   "version": "3.11.13"
  }
 },
 "nbformat": 4,
 "nbformat_minor": 5
}
