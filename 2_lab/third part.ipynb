{
 "cells": [
  {
   "cell_type": "markdown",
   "id": "be50bac6-8d39-47b9-aadb-b022ad76a17c",
   "metadata": {},
   "source": [
    "# Third part"
   ]
  },
  {
   "cell_type": "code",
   "execution_count": 28,
   "id": "1a8ddb0f-7c82-4daf-9f3c-2257ff533bbd",
   "metadata": {},
   "outputs": [
    {
     "name": "stdout",
     "output_type": "stream",
     "text": [
      "(10000, 785)\n",
      "(10000, 784) (10000, 1)\n",
      "                            \n",
      "                            \n",
      "                            \n",
      "                            \n",
      "         ..#######*         \n",
      "        .##########*        \n",
      "        ############        \n",
      "        ############.       \n",
      "        *###########*       \n",
      "         **   *#####*       \n",
      "             *#####*        \n",
      "           *#######*        \n",
      "         *#########*        \n",
      "         ###########.       \n",
      "         ############       \n",
      "         *#####*#####.      \n",
      "     .   *###.  .####.      \n",
      "    ###   **    #####.      \n",
      "    ####      .######.      \n",
      "     ################       \n",
      "     *##############        \n",
      "      #############.        \n",
      "      .*##########.         \n",
      "         ..####..           \n",
      "                            \n",
      "                            \n",
      "                            \n",
      "                            \n"
     ]
    }
   ],
   "source": [
    "import numpy as np\n",
    "raw = np.loadtxt(\"mnist_test.csv\", delimiter = \",\", dtype=np.int16)\n",
    "\n",
    "print (raw.shape)\n",
    "\n",
    "X = raw[:, 1:]\n",
    "y = raw[:,:1]\n",
    "print(X.shape, y.shape)\n",
    "\n",
    "\n",
    "image = X[200].reshape((28,28))\n",
    "\n",
    "char_image = np.empty_like(image, dtype=str)\n",
    "\n",
    "\n",
    "char_image[(image >= 0) & (image < 64)]    = \" \"\n",
    "char_image[(image >= 64) & (image < 128)]  = \".\"\n",
    "char_image[(image >= 128) & (image < 192)] = \"*\"\n",
    "char_image[(image >= 192) & (image <= 255)] = \"#\"\n",
    "\n",
    "#print(image)\n",
    "#print(char_image)\n",
    "\n",
    "for row in char_image:\n",
    "    print(\"\".join(row))\n",
    "\n",
    "\n"
   ]
  },
  {
   "cell_type": "code",
   "execution_count": 15,
   "id": "038caf5f-cc8e-42d6-a24c-bcbfa78d0e03",
   "metadata": {},
   "outputs": [
    {
     "name": "stdout",
     "output_type": "stream",
     "text": [
      "[False  True False]\n"
     ]
    }
   ],
   "source": [
    "a = np.array([1,3,5])\n",
    "mask_1 = a > 2\n",
    "mask_2 = a < 5\n",
    "print(mask_1 & mask_2)"
   ]
  }
 ],
 "metadata": {
  "kernelspec": {
   "display_name": "Python (dsml)",
   "language": "python",
   "name": "dsml"
  },
  "language_info": {
   "codemirror_mode": {
    "name": "ipython",
    "version": 3
   },
   "file_extension": ".py",
   "mimetype": "text/x-python",
   "name": "python",
   "nbconvert_exporter": "python",
   "pygments_lexer": "ipython3",
   "version": "3.11.13"
  }
 },
 "nbformat": 4,
 "nbformat_minor": 5
}
