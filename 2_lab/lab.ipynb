{
 "cells": [
  {
   "cell_type": "code",
   "execution_count": 7,
   "id": "97ecd13f-7b6f-4041-95ca-afc1a697c901",
   "metadata": {},
   "outputs": [
    {
     "name": "stdout",
     "output_type": "stream",
     "text": [
      "[[3.2 4. ]\n",
      " [2.4 6.2]]\n",
      "shape:  (2, 2)\n",
      "size:  4\n",
      "dtype:  float64\n",
      "ndim:  2\n"
     ]
    }
   ],
   "source": [
    "import numpy as np\n",
    "\n",
    "a = np.array([[3.2, 4.0], [2.4, 6.2]])\n",
    "print(a)\n",
    "print(\"shape: \",  a.shape)\n",
    "print(\"size: \", a.size)\n",
    "print(\"dtype: \", a.dtype)\n",
    "print(\"ndim: \", a.ndim)\n"
   ]
  },
  {
   "cell_type": "code",
   "execution_count": 10,
   "id": "79200fe1-ba4e-4ffa-99d8-64a66f7812da",
   "metadata": {},
   "outputs": [],
   "source": [
    "zeros = np.zeros((2,2))\n",
    "zeros\n"
   ]
  },
  {
   "cell_type": "code",
   "execution_count": 16,
   "id": "7d928821-3a92-418f-afc2-b10f195429f3",
   "metadata": {},
   "outputs": [
    {
     "data": {
      "text/plain": [
       "array([[[1., 1., 1.],\n",
       "        [1., 1., 1.],\n",
       "        [1., 1., 1.],\n",
       "        [1., 1., 1.],\n",
       "        [1., 1., 1.]],\n",
       "\n",
       "       [[1., 1., 1.],\n",
       "        [1., 1., 1.],\n",
       "        [1., 1., 1.],\n",
       "        [1., 1., 1.],\n",
       "        [1., 1., 1.]],\n",
       "\n",
       "       [[1., 1., 1.],\n",
       "        [1., 1., 1.],\n",
       "        [1., 1., 1.],\n",
       "        [1., 1., 1.],\n",
       "        [1., 1., 1.]]], dtype=float32)"
      ]
     },
     "execution_count": 16,
     "metadata": {},
     "output_type": "execute_result"
    }
   ],
   "source": [
    "ones = np.ones((3,5,3),  dtype=\"float32\")\n",
    "ones "
   ]
  },
  {
   "cell_type": "code",
   "execution_count": 22,
   "id": "6beee90e-98fd-4510-96f7-8e0eff6debcf",
   "metadata": {},
   "outputs": [
    {
     "data": {
      "text/plain": [
       "array([[[3, 3, 3],\n",
       "        [3, 3, 3],\n",
       "        [3, 3, 3]],\n",
       "\n",
       "       [[3, 3, 3],\n",
       "        [3, 3, 3],\n",
       "        [3, 3, 3]],\n",
       "\n",
       "       [[3, 3, 3],\n",
       "        [3, 3, 3],\n",
       "        [3, 3, 3]]])"
      ]
     },
     "execution_count": 22,
     "metadata": {},
     "output_type": "execute_result"
    }
   ],
   "source": [
    "fill_value = 3\n",
    "full = np.full((3,3,3),fill_value,  dtype=\"int64\")\n",
    "full"
   ]
  },
  {
   "cell_type": "code",
   "execution_count": 23,
   "id": "e83ebe86-c22a-400e-ad0c-ed014d356560",
   "metadata": {},
   "outputs": [
    {
     "data": {
      "text/plain": [
       "array([ 3,  6,  9, 12, 15, 18, 21, 24, 27])"
      ]
     },
     "execution_count": 23,
     "metadata": {},
     "output_type": "execute_result"
    }
   ],
   "source": [
    "a = np.arange(3, 30, 3)\n",
    "a"
   ]
  },
  {
   "cell_type": "code",
   "execution_count": 25,
   "id": "8587813c-a92f-48b3-8e3b-615e847ea0c4",
   "metadata": {},
   "outputs": [
    {
     "data": {
      "text/plain": [
       "array([  5.        ,   6.93877551,   8.87755102,  10.81632653,\n",
       "        12.75510204,  14.69387755,  16.63265306,  18.57142857,\n",
       "        20.51020408,  22.44897959,  24.3877551 ,  26.32653061,\n",
       "        28.26530612,  30.20408163,  32.14285714,  34.08163265,\n",
       "        36.02040816,  37.95918367,  39.89795918,  41.83673469,\n",
       "        43.7755102 ,  45.71428571,  47.65306122,  49.59183673,\n",
       "        51.53061224,  53.46938776,  55.40816327,  57.34693878,\n",
       "        59.28571429,  61.2244898 ,  63.16326531,  65.10204082,\n",
       "        67.04081633,  68.97959184,  70.91836735,  72.85714286,\n",
       "        74.79591837,  76.73469388,  78.67346939,  80.6122449 ,\n",
       "        82.55102041,  84.48979592,  86.42857143,  88.36734694,\n",
       "        90.30612245,  92.24489796,  94.18367347,  96.12244898,\n",
       "        98.06122449, 100.        ])"
      ]
     },
     "execution_count": 25,
     "metadata": {},
     "output_type": "execute_result"
    }
   ],
   "source": [
    "b = np.linspace(5, 100)\n",
    "b"
   ]
  },
  {
   "cell_type": "code",
   "execution_count": 58,
   "id": "698d2db9-2402-4169-b7a4-e71fb34600ec",
   "metadata": {},
   "outputs": [
    {
     "name": "stdout",
     "output_type": "stream",
     "text": [
      "[[1 2]\n",
      " [3 4]]\n",
      "[[5 6]\n",
      " [7 8]]\n",
      "[[ 2.71828183  7.3890561 ]\n",
      " [20.08553692 54.59815003]]\n",
      "[[2.23606798 2.44948974]\n",
      " [2.64575131 2.82842712]]\n",
      "[3 7]\n",
      "[1.5 3.5]\n"
     ]
    }
   ],
   "source": [
    "f_arr = np.arange(1,5,1).reshape((2,2))\n",
    "f_arr_2 = np.arange(5,9,1).reshape((2,2))\n",
    "\n",
    "print(f_arr)\n",
    "print(f_arr_2)\n",
    "print(np.exp(f_arr))\n",
    "print(np.sqrt(f_arr_2))\n",
    "\n",
    "print(np.sum(f_arr, axis=1))\n",
    "print(np.mean(f_arr, axis=1))"
   ]
  },
  {
   "cell_type": "markdown",
   "id": "fa2c7088-b6c5-4d73-b38c-2b145b13721b",
   "metadata": {},
   "source": [
    "## Indexing & views vs copies\n",
    "Create small matrices and complete the following exercises:"
   ]
  },
  {
   "cell_type": "code",
   "execution_count": 76,
   "id": "e8140f12-fbd5-4ab1-a29f-485a418be670",
   "metadata": {},
   "outputs": [
    {
     "name": "stdout",
     "output_type": "stream",
     "text": [
      "[[1 2]\n",
      " [5 6]]\n",
      "[[False False False False]\n",
      " [False False  True  True]\n",
      " [ True  True  True  True]]\n",
      "[[ 1  2  3  4]\n",
      " [ 5  6 -1 -1]\n",
      " [-1 -1 -1 -1]]\n"
     ]
    }
   ],
   "source": [
    "test = np.arange(1,13,1).reshape(3,4)\n",
    "print(test[:2,:2])\n",
    "\n",
    "mask = test > 6\n",
    "print(mask)\n",
    "\n",
    "test[mask] = -1\n",
    "print(test)"
   ]
  },
  {
   "cell_type": "code",
   "execution_count": null,
   "id": "e2f6f1f0-7788-4210-9f7e-75efc49d0373",
   "metadata": {},
   "outputs": [],
   "source": []
  }
 ],
 "metadata": {
  "kernelspec": {
   "display_name": "Python (dsml)",
   "language": "python",
   "name": "dsml"
  },
  "language_info": {
   "codemirror_mode": {
    "name": "ipython",
    "version": 3
   },
   "file_extension": ".py",
   "mimetype": "text/x-python",
   "name": "python",
   "nbconvert_exporter": "python",
   "pygments_lexer": "ipython3",
   "version": "3.11.13"
  }
 },
 "nbformat": 4,
 "nbformat_minor": 5
}
